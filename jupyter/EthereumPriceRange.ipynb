{
 "cells": [
  {
   "cell_type": "code",
   "execution_count": 31,
   "metadata": {},
   "outputs": [],
   "source": [
    "# -*- coding: utf-8 -*-\n",
    "%matplotlib inline\n",
    "\n",
    "import matplotlib.pyplot as plt\n",
    "import numpy as np\n",
    "from pymongo import MongoClient\n",
    "\n"
   ]
  },
  {
   "cell_type": "code",
   "execution_count": 5,
   "metadata": {},
   "outputs": [],
   "source": [
    "import yaml\n",
    "def yaml_loader(config_path):\n",
    "    with open(config_path) as f:\n",
    "        return yaml.load(f)\n",
    "    \n",
    "config=yaml_loader(\"../server/config.yaml\")"
   ]
  },
  {
   "cell_type": "code",
   "execution_count": 56,
   "metadata": {},
   "outputs": [
    {
     "name": "stdout",
     "output_type": "stream",
     "text": [
      "{'_id': None, 'maxPrice': 223.99, 'minPrice': 201}\n"
     ]
    }
   ],
   "source": [
    "db = MongoClient(config.get(\"mongo_uri\").format(config.get(\"mongo_username\"),config.get(\"mongo_password\")))\n",
    "coll = db.ethereum.orders\n",
    "# GET max and min prices.\n",
    "result=coll.aggregate([{\"$group\" : { \"_id\":None, \"maxPrice\" : {\"$max\": \"$price\"}, \"minPrice\" : {\"$min\": \"$price\"}\n",
    "}}])\n",
    "data=result.next()\n",
    "print(data)\n",
    "max_price = int(data[\"maxPrice\"])\n",
    "min_price = int(data[\"minPrice\"])\n",
    "\n",
    "# print(y)\n",
    "\n",
    "result=coll.find({})\n",
    "datas=[]\n",
    "for data in result:\n",
    "    datas.append(data)"
   ]
  },
  {
   "cell_type": "code",
   "execution_count": 57,
   "metadata": {},
   "outputs": [
    {
     "name": "stdout",
     "output_type": "stream",
     "text": [
      "[    0.          3855.97896295     0.             0.\n",
      "     0.          7963.31506196 14300.17905021     0.\n",
      "     0.             0.          8803.19291256     0.\n",
      "  5532.23312229     0.             0.             0.\n",
      " 11077.02741774  7516.73876049 17849.77077338     0.\n",
      "  3099.2941152   2085.19031497  2567.39794529]\n",
      "[ 3891.1471291      0.          5923.851083    6342.04995831\n",
      " 12761.38063813     0.             0.         16083.20067247\n",
      "  9881.23931111  9891.89561737     0.          5271.98371849\n",
      "     0.          3436.74094916  3068.33433162  6141.16012047\n",
      "     0.             0.             0.          6605.12799298\n",
      "     0.             0.             0.        ]\n"
     ]
    },
    {
     "data": {
      "image/png": "[encoded data removed]",
      "text/plain": [
       "<Figure size 432x288 with 1 Axes>"
      ]
     },
     "metadata": {
      "needs_background": "light"
     },
     "output_type": "display_data"
    }
   ],
   "source": [
    "x = np.linspace(min_price,max_price,(max_price-min_price+1))\n",
    "# print(x)\n",
    "\n",
    "y = np.zeros((max_price-min_price+1))\n",
    "y2 = np.zeros((max_price-min_price+1))\n",
    "\n",
    "\n",
    "for data in datas:\n",
    "        y[int(data[\"price\"])-min_price]+=abs(data[\"amount\"])\n",
    "        y2[int(data[\"price\"])-min_price]+=data[\"amount\"]\n",
    "# print(y)\n",
    "# print(y2)\n",
    "# print(x.shape)\n",
    "for i in range(0,x.shape[0]):\n",
    "    if y2[i]<0:\n",
    "        y2[i]=y[i]\n",
    "        y[i] = 0\n",
    "    else:\n",
    "        y2[i]=0\n",
    "print(y)\n",
    "print(y2)\n",
    "\n",
    "plt.xlabel('ETH Price')\n",
    "plt.ylabel('Amount')\n",
    "\n",
    "plt.bar(x, y, color=\"green\")\n",
    "plt.bar(x,y2,color=\"red\")\n",
    "plt.show()\n",
    "\n",
    "\n"
   ]
  },
  {
   "cell_type": "code",
   "execution_count": 58,
   "metadata": {},
   "outputs": [
    {
     "name": "stdout",
     "output_type": "stream",
     "text": [
      "[ 944.73898       0.            0.            0.            0.\n",
      " 2655.40679603 5652.2661406     0.         2387.89168748 1806.04348972\n",
      " 1998.50034493  847.49544257    0.            0.          766.42852136\n",
      "    0.         1217.439      1113.09810615 3605.50963116    0.\n",
      "    0.            0.            0.        ]\n",
      "[   0.          411.34061    1755.38015307 1570.152      2004.04380818\n",
      "    0.            0.         5173.08727989    0.            0.\n",
      "    0.            0.          348.554         0.            0.\n",
      "  348.554         0.            0.            0.          663.50829092\n",
      "    0.            0.          380.9       ]\n"
     ]
    },
    {
     "data": {
      "image/png": "[encoded data removed]",
      "text/plain": [
       "<Figure size 432x288 with 1 Axes>"
      ]
     },
     "metadata": {
      "needs_background": "light"
     },
     "output_type": "display_data"
    }
   ],
   "source": [
    "# Set a threshold for small orders.\n",
    "\n",
    "y = np.zeros((max_price-min_price+1))\n",
    "y2 = np.zeros((max_price-min_price+1))\n",
    "threshold=300\n",
    "\n",
    "for data in datas:\n",
    "    if abs(data[\"amount\"])>=threshold:\n",
    "        y[int(data[\"price\"])-min_price]+=abs(data[\"amount\"])\n",
    "        y2[int(data[\"price\"])-min_price]+=data[\"amount\"]\n",
    "\n",
    "for i in range(0,x.shape[0]):\n",
    "    if y2[i]<0:\n",
    "        y2[i]=y[i]\n",
    "        y[i] = 0\n",
    "    else:\n",
    "        y2[i]=0\n",
    "print(y)\n",
    "print(y2)\n",
    "\n",
    "plt.xlabel('ETH Price')\n",
    "plt.ylabel('Amount')\n",
    "\n",
    "plt.bar(x, y, color=\"green\")\n",
    "plt.bar(x,y2,color=\"red\")\n",
    "plt.show()\n",
    "\n",
    "\n"
   ]
  },
  {
   "cell_type": "code",
   "execution_count": null,
   "metadata": {},
   "outputs": [],
   "source": []
  }
 ],
 "metadata": {
  "kernelspec": {
   "display_name": "Python 3",
   "language": "python",
   "name": "python3"
  },
  "language_info": {
   "codemirror_mode": {
    "name": "ipython",
    "version": 3
   },
   "file_extension": ".py",
   "mimetype": "text/x-python",
   "name": "python",
   "nbconvert_exporter": "python",
   "pygments_lexer": "ipython3",
   "version": "3.7.0"
  }
 },
 "nbformat": 4,
 "nbformat_minor": 2
}
