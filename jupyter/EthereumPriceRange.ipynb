{
 "cells": [
  {
   "cell_type": "code",
   "execution_count": 31,
   "metadata": {},
   "outputs": [],
   "source": [
    "# -*- coding: utf-8 -*-\n",
    "%matplotlib inline\n",
    "\n",
    "import matplotlib.pyplot as plt\n",
    "import numpy as np\n",
    "from pymongo import MongoClient\n",
    "\n"
   ]
  },
  {
   "cell_type": "code",
   "execution_count": 5,
   "metadata": {},
   "outputs": [],
   "source": [
    "import yaml\n",
    "def yaml_loader(config_path):\n",
    "    with open(config_path) as f:\n",
    "        return yaml.load(f)\n",
    "    \n",
    "config=yaml_loader(\"../server/config.yaml\")"
   ]
  },
  {
   "cell_type": "code",
   "execution_count": 59,
   "metadata": {},
   "outputs": [
    {
     "name": "stdout",
     "output_type": "stream",
     "text": [
      "{'_id': None, 'maxPrice': 223.99, 'minPrice': 201}\n"
     ]
    }
   ],
   "source": [
    "db = MongoClient(config.get(\"mongo_uri\").format(config.get(\"mongo_username\"),config.get(\"mongo_password\")))\n",
    "coll = db.ethereum.orders\n",
    "# GET max and min prices.\n",
    "result=coll.aggregate([{\"$group\" : { \"_id\":None, \"maxPrice\" : {\"$max\": \"$price\"}, \"minPrice\" : {\"$min\": \"$price\"}\n",
    "}}])\n",
    "data=result.next()\n",
    "print(data)\n",
    "max_price = int(data[\"maxPrice\"])\n",
    "min_price = int(data[\"minPrice\"])\n",
    "\n",
    "# print(y)\n",
    "\n",
    "result=coll.find({})\n",
    "datas=[]\n",
    "for data in result:\n",
    "    datas.append(data)"
   ]
  },
  {
   "cell_type": "code",
   "execution_count": 63,
   "metadata": {},
   "outputs": [
    {
     "name": "stdout",
     "output_type": "stream",
     "text": [
      "ETH Whales orders:\n"
     ]
    },
    {
     "data": {
      "image/png": "[encoded data removed]",
      "text/plain": [
       "<Figure size 432x288 with 1 Axes>"
      ]
     },
     "metadata": {
      "needs_background": "light"
     },
     "output_type": "display_data"
    }
   ],
   "source": [
    "x = np.linspace(min_price,max_price,(max_price-min_price+1))\n",
    "# print(x)\n",
    "\n",
    "y = np.zeros((max_price-min_price+1))\n",
    "y2 = np.zeros((max_price-min_price+1))\n",
    "\n",
    "\n",
    "for data in datas:\n",
    "        y[int(data[\"price\"])-min_price]+=abs(data[\"amount\"])\n",
    "        y2[int(data[\"price\"])-min_price]+=data[\"amount\"]\n",
    "# print(y)\n",
    "# print(y2)\n",
    "# print(x.shape)\n",
    "for i in range(0,x.shape[0]):\n",
    "    if y2[i]<0:\n",
    "        y2[i]=y[i]\n",
    "        y[i] = 0\n",
    "    else:\n",
    "        y2[i]=0\n",
    "# print(y)\n",
    "# print(y2)\n",
    "print(\"ETH Whales orders:\")\n",
    "plt.xlabel('ETH Price')\n",
    "plt.ylabel('Amount')\n",
    "\n",
    "plt.bar(x, y, color=\"green\")\n",
    "plt.bar(x,y2,color=\"red\")\n",
    "plt.show()\n",
    "\n",
    "\n"
   ]
  },
  {
   "cell_type": "code",
   "execution_count": 62,
   "metadata": {},
   "outputs": [
    {
     "name": "stdout",
     "output_type": "stream",
     "text": [
      "ETH Whales orders larger than 300:\n"
     ]
    },
    {
     "data": {
      "image/png": "[encoded data removed]",
      "text/plain": [
       "<Figure size 432x288 with 1 Axes>"
      ]
     },
     "metadata": {
      "needs_background": "light"
     },
     "output_type": "display_data"
    }
   ],
   "source": [
    "# Set a threshold for small orders.\n",
    "\n",
    "y = np.zeros((max_price-min_price+1))\n",
    "y2 = np.zeros((max_price-min_price+1))\n",
    "threshold=300\n",
    "\n",
    "for data in datas:\n",
    "    if abs(data[\"amount\"])>=threshold:\n",
    "        y[int(data[\"price\"])-min_price]+=abs(data[\"amount\"])\n",
    "        y2[int(data[\"price\"])-min_price]+=data[\"amount\"]\n",
    "\n",
    "for i in range(0,x.shape[0]):\n",
    "    if y2[i]<0:\n",
    "        y2[i]=y[i]\n",
    "        y[i] = 0\n",
    "    else:\n",
    "        y2[i]=0\n",
    "# print(y)\n",
    "# print(y2)\n",
    "print(\"ETH Whales orders larger than 300:\")\n",
    "\n",
    "\n",
    "plt.xlabel('ETH Price')\n",
    "plt.ylabel('Amount')\n",
    "\n",
    "plt.bar(x, y, color=\"green\")\n",
    "plt.bar(x,y2,color=\"red\")\n",
    "plt.show()\n",
    "\n",
    "\n"
   ]
  },
  {
   "cell_type": "code",
   "execution_count": null,
   "metadata": {},
   "outputs": [],
   "source": []
  }
 ],
 "metadata": {
  "kernelspec": {
   "display_name": "Python 3",
   "language": "python",
   "name": "python3"
  },
  "language_info": {
   "codemirror_mode": {
    "name": "ipython",
    "version": 3
   },
   "file_extension": ".py",
   "mimetype": "text/x-python",
   "name": "python",
   "nbconvert_exporter": "python",
   "pygments_lexer": "ipython3",
   "version": "3.7.0"
  }
 },
 "nbformat": 4,
 "nbformat_minor": 2
}
