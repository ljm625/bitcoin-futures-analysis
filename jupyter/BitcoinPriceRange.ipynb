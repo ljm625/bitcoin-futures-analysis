{
 "cells": [
  {
   "cell_type": "code",
   "execution_count": 1,
   "metadata": {},
   "outputs": [],
   "source": [
    "# -*- coding: utf-8 -*-\n",
    "%matplotlib inline\n",
    "\n",
    "import matplotlib.pyplot as plt\n",
    "import numpy as np\n",
    "from pymongo import MongoClient\n",
    "import yaml\n",
    "import ssl\n",
    "\n",
    "red_color_schema = \"#cc1228\"\n",
    "green_color_schema = \"#3c8c30\""
   ]
  },
  {
   "cell_type": "code",
   "execution_count": 2,
   "metadata": {},
   "outputs": [],
   "source": [
    "def yaml_loader(config_path):\n",
    "    with open(config_path) as f:\n",
    "        return yaml.load(f)\n",
    "    \n",
    "config=yaml_loader(\"../server/config.yaml\")"
   ]
  },
  {
   "cell_type": "code",
   "execution_count": 32,
   "metadata": {},
   "outputs": [
    {
     "name": "stdout",
     "output_type": "stream",
     "text": [
      "{'_id': None, 'maxPrice': 6554.4, 'minPrice': 6202.8}\n"
     ]
    }
   ],
   "source": [
    "mongo_uri = config.get(\"mongo_uri\").format(config.get(\"mongo_username\"), config.get(\"mongo_password\"))\n",
    "db = MongoClient(mongo_uri,ssl=True,ssl_cert_reqs=ssl.CERT_NONE)\n",
    "coll = db.bitcoin.orders\n",
    "# GET max and min prices.\n",
    "result = coll.aggregate([{\"$group\": {\"_id\": None, \"maxPrice\": {\"$max\": \"$price\"}, \"minPrice\": {\"$min\": \"$price\"}\n",
    "                                     }}])\n",
    "data = result.next()\n",
    "print(data)\n",
    "max_price = int(data[\"maxPrice\"]/100+1)*100 #6600\n",
    "min_price = int(data[\"minPrice\"]/100)*100  #6200\n",
    "\n",
    "# print(y)\n",
    "\n",
    "result = coll.find({})\n",
    "datas = []\n",
    "for data in result:\n",
    "    datas.append(data)"
   ]
  },
  {
   "cell_type": "code",
   "execution_count": 38,
   "metadata": {},
   "outputs": [
    {
     "name": "stdout",
     "output_type": "stream",
     "text": [
      "[6200. 6210. 6220. 6230. 6240. 6250. 6260. 6270. 6280. 6290. 6300. 6310.\n",
      " 6320. 6330. 6340. 6350. 6360. 6370. 6380. 6390. 6400. 6410. 6420. 6430.\n",
      " 6440. 6450. 6460. 6470. 6480. 6490. 6500. 6510. 6520. 6530. 6540. 6550.\n",
      " 6560. 6570. 6580. 6590. 6600.]\n",
      "41.0\n",
      "[142.8739584  177.63996722 329.47959353 209.06607198 221.4473262\n",
      " 471.22443086 256.73288955 335.90894015  85.33972159  67.52565471\n",
      " 400.00866057  41.32029036  54.39552766 106.52128924 212.29167137\n",
      " 117.13210695 102.65349797 108.49965314  30.14131148  94.93881988\n",
      "  39.82277394 188.8988521  202.211623   534.72150171 347.64784719\n",
      " 303.27320018 180.06979213 272.01771509 172.93999443 165.3046979\n",
      " 379.58812079 283.58525182 304.07087733 310.90363554 164.26690135\n",
      "  51.80619016   0.           0.           0.           0.\n",
      "   0.        ]\n",
      "[-142.8739584  -156.1795684  -181.35838347   -5.48433892    1.31397908\n",
      " -168.24603572  -67.17490559 -117.63541897  -12.36676881  -26.41360329\n",
      "  182.37023611  -17.37429036   -8.59552766    6.85448854  -77.65096159\n",
      "   -3.97504895  -12.41546311   78.49965314  -16.7210509    40.85336054\n",
      "  -26.93091132  -29.93848086    9.21150972  228.77931177   60.05439681\n",
      "  -31.5451732   -17.70536381   24.45818705   53.75301573  -30.30463572\n",
      "  -42.43354645 -124.00598334 -116.31970643  197.7071385   -48.87871351\n",
      "  -23.07657754    0.            0.            0.            0.\n",
      "    0.        ]\n",
      "[  0.   0.   0.   0. 221.   0.   0.   0.   0.   0. 400.   0.   0. 106.\n",
      "   0.   0.   0. 108.   0.  94.   0.   0. 202. 534. 347.   0.   0. 272.\n",
      " 172.   0.   0.   0.   0. 310.   0.   0.   0.   0.   0.   0.   0.]\n",
      "[142. 177. 329. 209.   0. 471. 256. 335.  85.  67.   0.  41.  54.   0.\n",
      " 212. 117. 102.   0.  30.   0.  39. 188.   0.   0.   0. 303. 180.   0.\n",
      "   0. 165. 379. 283. 304.   0. 164.  51.   0.   0.   0.   0.   0.]\n",
      "BTC Whales orders:\n"
     ]
    },
    {
     "data": {
      "image/png": "[encoded data removed]",
      "text/plain": [
       "<Figure size 432x288 with 1 Axes>"
      ]
     },
     "metadata": {
      "needs_background": "light"
     },
     "output_type": "display_data"
    }
   ],
   "source": [
    "x = np.linspace(min_price,max_price,(max_price-min_price)//10+1)\n",
    "print(x)\n",
    "print((max_price-min_price)/10+1)\n",
    "y = np.zeros(int((max_price-min_price)/10+1))\n",
    "y2 = np.zeros(int((max_price-min_price)/10+1))\n",
    "\n",
    "\n",
    "for data in datas:\n",
    "        y[int((data[\"price\"]-min_price)//10)]+=abs(data[\"amount\"])\n",
    "        y2[int((data[\"price\"]-min_price)//10)]+=data[\"amount\"]\n",
    "print(y)\n",
    "print(y2)\n",
    "# print(x.shape)\n",
    "for i in range(0,x.shape[0]):\n",
    "    if y2[i]<0:\n",
    "        y2[i]=int(y[i])\n",
    "        y[i] = 0\n",
    "    else:\n",
    "        y[i] = int(y[i])\n",
    "        y2[i]=0\n",
    "print(y)\n",
    "print(y2)\n",
    "print(\"BTC Whales orders:\")\n",
    "plt.xlabel('BTC Price')\n",
    "plt.ylabel('Amount')\n",
    "\n",
    "plt.bar(x, y,color=green_color_schema,width=8)\n",
    "plt.bar(x,y2,color=red_color_schema,width=8)\n",
    "plt.show()"
   ]
  },
  {
   "cell_type": "code",
   "execution_count": 44,
   "metadata": {},
   "outputs": [
    {
     "name": "stdout",
     "output_type": "stream",
     "text": [
      "[  0.           0.           0.           0.           0.\n",
      "   0.           0.           0.           0.           0.\n",
      " 222.21547851   0.           0.           0.          47.57697091\n",
      "   0.           0.          61.1875       0.           0.\n",
      "   0.           0.           0.         299.38199447 219.7352289\n",
      "   0.           0.          60.68168732  36.38472928   0.\n",
      "   0.           0.           0.         205.00600849   0.\n",
      "   0.           0.           0.           0.           0.\n",
      "   0.        ]\n",
      "[136.73795427 129.          91.673992    20.           0.\n",
      " 107.18140512 136.6924451  115.05716826   0.           0.\n",
      "   0.           0.           0.           0.           0.\n",
      "   0.           0.           0.           0.           0.\n",
      "   0.          20.82721167  45.72752879   0.           0.\n",
      "  86.27285979  20.83694561   0.           0.          51.41057769\n",
      " 139.28469606 126.41296092 198.61337846   0.         111.4947215\n",
      "  37.44138385   0.           0.           0.           0.\n",
      "   0.        ]\n",
      "BTC Whales orders larger than 20:\n"
     ]
    },
    {
     "data": {
      "image/png": "[encoded data removed]",
      "text/plain": [
       "<Figure size 432x288 with 1 Axes>"
      ]
     },
     "metadata": {
      "needs_background": "light"
     },
     "output_type": "display_data"
    }
   ],
   "source": [
    "# Set a threshold for small orders.\n",
    "\n",
    "y = np.zeros(int((max_price-min_price)/10+1))\n",
    "y2 = np.zeros(int((max_price-min_price)/10+1))\n",
    "threshold=20\n",
    "\n",
    "for data in datas:\n",
    "    if abs(data[\"amount\"])>=threshold:\n",
    "        y[int((data[\"price\"]-min_price)//10)]+=abs(data[\"amount\"])\n",
    "        y2[int((data[\"price\"]-min_price)//10)]+=data[\"amount\"]\n",
    "\n",
    "for i in range(0,x.shape[0]):\n",
    "    if y2[i]<0:\n",
    "        y2[i]=y[i]\n",
    "        y[i] = 0\n",
    "    else:\n",
    "        y2[i]=0\n",
    "print(y)\n",
    "print(y2)\n",
    "print(\"BTC Whales orders larger than 20:\")\n",
    "\n",
    "\n",
    "plt.xlabel('BTC Price')\n",
    "plt.ylabel('Amount')\n",
    "\n",
    "plt.bar(x, y, color=green_color_schema,width=8)\n",
    "plt.bar(x,y2,color=red_color_schema,width=8)\n",
    "plt.show()"
   ]
  },
  {
   "cell_type": "code",
   "execution_count": 45,
   "metadata": {},
   "outputs": [],
   "source": [
    "def draw_volume(collection, start_time, end_time, filter_func=None, *, title=\"\"):\n",
    "    result = coll.find({\"time\": {\"$lt\": end_time,\"$gt\":start_time}})\n",
    "    \n",
    "    result = list(result)\n",
    "    \n",
    "    max_price = int(max(result, key=lambda x: x[\"price\"])[\"price\"])\n",
    "    min_price = int(min(result, key=lambda x: x[\"price\"])[\"price\"])\n",
    "    \n",
    "    x = np.linspace(min_price,max_price,(max_price-min_price)//10+1)\n",
    "    y = np.zeros(int((max_price-min_price)/10+1))\n",
    "    y2 = np.zeros(int((max_price-min_price)/10+1))\n",
    "\n",
    "\n",
    "    for data in result:\n",
    "        if not filter_func or filter_func(data):\n",
    "            y[int((data[\"price\"]-min_price)//10)]+=abs(data[\"amount\"])\n",
    "            y2[int((data[\"price\"]-min_price)//10)]+=data[\"amount\"]\n",
    "        \n",
    "    for i in range(0,x.shape[0]):\n",
    "        if y2[i]<0:\n",
    "            y2[i]=y[i]\n",
    "            y[i] = 0\n",
    "        else:\n",
    "            y2[i]=0\n",
    "            \n",
    "    plt.title(title)\n",
    "    plt.xlabel('BTC Price')\n",
    "    plt.ylabel('Amount')\n",
    "\n",
    "    plt.bar(x, y, color=green_color_schema,width=8)\n",
    "    plt.bar(x,y2,color=red_color_schema,width=8)\n",
    "    plt.show()"
   ]
  },
  {
   "cell_type": "code",
   "execution_count": 46,
   "metadata": {},
   "outputs": [
    {
     "data": {
      "image/png": "[encoded data removed]",
      "text/plain": [
       "<Figure size 432x288 with 1 Axes>"
      ]
     },
     "metadata": {
      "needs_background": "light"
     },
     "output_type": "display_data"
    },
    {
     "data": {
      "image/png": "[encoded data removed]",
      "text/plain": [
       "<Figure size 432x288 with 1 Axes>"
      ]
     },
     "metadata": {
      "needs_background": "light"
     },
     "output_type": "display_data"
    },
    {
     "data": {
      "image/png": "[encoded data removed]",
      "text/plain": [
       "<Figure size 432x288 with 1 Axes>"
      ]
     },
     "metadata": {
      "needs_background": "light"
     },
     "output_type": "display_data"
    },
    {
     "data": {
      "image/png": "[encoded data removed]",
      "text/plain": [
       "<Figure size 432x288 with 1 Axes>"
      ]
     },
     "metadata": {
      "needs_background": "light"
     },
     "output_type": "display_data"
    },
    {
     "data": {
      "image/png": "[encoded data removed]",
      "text/plain": [
       "<Figure size 432x288 with 1 Axes>"
      ]
     },
     "metadata": {
      "needs_background": "light"
     },
     "output_type": "display_data"
    },
    {
     "data": {
      "image/png": "[encoded data removed]",
      "text/plain": [
       "<Figure size 432x288 with 1 Axes>"
      ]
     },
     "metadata": {
      "needs_background": "light"
     },
     "output_type": "display_data"
    }
   ],
   "source": [
    "import time \n",
    "\n",
    "mongo_uri = config.get(\"mongo_uri\").format(config.get(\"mongo_username\"), config.get(\"mongo_password\"))\n",
    "db = MongoClient(mongo_uri,ssl=True,ssl_cert_reqs=ssl.CERT_NONE)\n",
    "coll = db.bitcoin.orders\n",
    "\n",
    "draw_volume(coll, int((time.time()-24*3600)*1000), int(time.time()*1000), title=\"BTC Whales orders in 1 day\")\n",
    "draw_volume(coll, int((time.time()-24*3600)*1000), int(time.time()*1000), lambda x: abs(x[\"amount\"]) > 20, title=\"BTC Whales orders larger than 20 in 1 day\")\n",
    "\n",
    "draw_volume(coll, int((time.time()-3*24*3600)*1000), int(time.time()*1000), title=\"BTC Whales orders in 3 day\")\n",
    "draw_volume(coll, int((time.time()-3*24*3600)*1000), int(time.time()*1000), lambda x: abs(x[\"amount\"]) > 20, title=\"BTC Whales orders larger than 20 in 3 day\")\n",
    "\n",
    "draw_volume(coll, int((time.time()-5*24*3600)*1000), int(time.time()*1000), title=\"BTC Whales orders in 5 day\")\n",
    "draw_volume(coll, int((time.time()-5*24*3600)*1000), int(time.time()*1000), lambda x: abs(x[\"amount\"]) > 20, title=\"BTC Whales orders larger than 20 in 5 day\")"
   ]
  },
  {
   "cell_type": "code",
   "execution_count": 49,
   "metadata": {},
   "outputs": [
    {
     "data": {
      "image/png": "[encoded data removed]",
      "text/plain": [
       "<Figure size 432x288 with 1 Axes>"
      ]
     },
     "metadata": {
      "needs_background": "light"
     },
     "output_type": "display_data"
    }
   ],
   "source": [
    "mongo_uri = config.get(\"mongo_uri\").format(config.get(\"mongo_username\"), config.get(\"mongo_password\"))\n",
    "db = MongoClient(mongo_uri,ssl=True,ssl_cert_reqs=ssl.CERT_NONE)\n",
    "coll = db.bitcoin.orders\n",
    "# GET max and min prices.\n",
    "result = coll.aggregate([{\"$group\": {\"_id\": \"$price\", \"orders\": {\"$push\" : \"$amount\"}\n",
    "                                     }}])\n",
    "lists = []\n",
    "for data in result:\n",
    "    data['total'] = sum([abs(i) for i in data['orders']])\n",
    "    data['direction'] = sum([i for i in data['orders']])\n",
    "\n",
    "    lists.append(data)\n",
    "\n",
    "datas=sorted(lists,key=lambda lists: lists['total'],reverse = True)\n",
    "x = np.array([i['_id'] for i in datas[:30]])\n",
    "y = np.array([i['total'] for i in datas[:30]])\n",
    "\n",
    "plt.bar(x, y, color=green_color_schema,width=1)\n",
    "plt.show()\n",
    "\n",
    "\n",
    "\n"
   ]
  },
  {
   "cell_type": "code",
   "execution_count": null,
   "metadata": {},
   "outputs": [],
   "source": [
    "import datetime\n",
    "import random\n",
    "import matplotlib.dates as mdates\n",
    "\n",
    "\n",
    "def draw_time_series_orders(collection, start_time, end_time,period, filter_func=None, *, title=\"\"):\n",
    "    def convert_to_datetime64(timestamp):\n",
    "        dt= datetime.datetime.utcfromtimestamp(timestamp/1000)\n",
    "        return np.datetime64(dt)\n",
    "        \n",
    "    result = coll.find({\"time\": {\"$lt\": end_time,\"$gt\":start_time}})\n",
    "    \n",
    "    result = list(result)\n",
    "    \n",
    "    start=convert_to_datetime64(start_time)\n",
    "    end = convert_to_datetime64(end_time)\n",
    "#     print(start)\n",
    "#     print(end)\n",
    "    x = np.arange(start, end, dtype='datetime64[{}m]'.format(period))\n",
    "#     print(x)\n",
    "    y = np.zeros(x.shape[0])\n",
    "    y2 = np.zeros(x.shape[0])\n",
    "\n",
    "    position = 0\n",
    "    for data in result:\n",
    "        if position<x.shape[0]-1 and convert_to_datetime64(data[\"time\"])> x[position+1]:\n",
    "            position+=1\n",
    "        if not filter_func or filter_func(data):\n",
    "            if data[\"amount\"]>=0:\n",
    "                y[position]+=data[\"amount\"]\n",
    "            else:\n",
    "                y2[position]+=data[\"amount\"]\n",
    "#     print(y)\n",
    "#     for i in range(0,x.shape[0]):\n",
    "#         if y2[i]<0:\n",
    "#             y2[i]=y[i]\n",
    "#             y[i] = 0\n",
    "#         else:\n",
    "#             y2[i]=0\n",
    "            \n",
    "    plt.title(title)\n",
    "    plt.xlabel('Time')\n",
    "    plt.ylabel('Amount')\n",
    "\n",
    "    plt.bar(x, y, color=green_color_schema,width=period/2000)\n",
    "    plt.bar(x, y2, color=red_color_schema,width=period/2000)\n",
    "\n",
    "    plt.gcf().autofmt_xdate()\n",
    "    myFmt = mdates.DateFormatter('%m-%d %H:%M')\n",
    "    plt.gca().xaxis.set_major_formatter(myFmt)\n",
    "\n",
    "#     plt.bar(x,y2,color=red_color_schema)\n",
    "    plt.show()"
   ]
  },
  {
   "cell_type": "code",
   "execution_count": null,
   "metadata": {},
   "outputs": [],
   "source": []
  },
  {
   "cell_type": "code",
   "execution_count": null,
   "metadata": {},
   "outputs": [],
   "source": [
    "import time\n",
    "mongo_uri = config.get(\"mongo_uri\").format(config.get(\"mongo_username\"), config.get(\"mongo_password\"))\n",
    "db = MongoClient(mongo_uri,ssl=True,ssl_cert_reqs=ssl.CERT_NONE)\n",
    "coll = db.ethereum.orders\n",
    "\n",
    "draw_time_series_orders(coll, int((time.time()-24*3600)*1000), \n",
    "                        int(time.time()*1000),30, title=\"BTC time based orders in 1 day\")\n",
    "draw_time_series_orders(coll, int((time.time()-24*3600)*1000), \n",
    "                        int(time.time()*1000),30, lambda x: abs(x[\"amount\"]) > 20, title=\"BTC time based orders in 1 day with order>20\")\n",
    "draw_time_series_orders(coll, int((time.time()-72*3600)*1000), \n",
    "                        int(time.time()*1000),60, title=\"ETH time based orders in 3 day\")\n",
    "draw_time_series_orders(coll, int((time.time()-72*3600)*1000), \n",
    "                        int(time.time()*1000),60, lambda x: abs(x[\"amount\"]) > 20, title=\"BTC time based orders in 3 day with order>20\")\n",
    "draw_time_series_orders(coll, int((time.time()-120*3600)*1000), \n",
    "                        int(time.time()*1000),120, title=\"ETH time based orders in 5 day\")\n",
    "draw_time_series_orders(coll, int((time.time()-120*3600)*1000), \n",
    "                        int(time.time()*1000),120, lambda x: abs(x[\"amount\"]) > 20, title=\"BTC time based orders in 5 day with order>20\")\n"
   ]
  },
  {
   "cell_type": "code",
   "execution_count": null,
   "metadata": {},
   "outputs": [],
   "source": [
    "import ssl\n",
    "\n",
    "import requests\n",
    "import time\n",
    "import yaml\n",
    "from pymongo import MongoClient\n",
    "import numpy as np\n",
    "from pprint import pprint\n",
    "\n",
    "def draw_time_series_order_percentage(collection, start_time, end_time,period, filter_func=None, *, title=\"\"):\n",
    "    def convert_to_datetime64(timestamp):\n",
    "        dt= datetime.datetime.utcfromtimestamp(timestamp/1000)\n",
    "        return np.datetime64(dt)\n",
    "    x= []\n",
    "    y2 = []\n",
    "    if period==60:\n",
    "        resp = requests.get(\"https://api.bitfinex.com/v2/candles/trade:{}:tBTCUSD/hist?start={}&end={}\".format(\"1h\",start_time,end_time))\n",
    "    elif period == 180:\n",
    "        resp = requests.get(\"https://api.bitfinex.com/v2/candles/trade:{}:tBTCUSD/hist?start={}&end={}\".format(\"3h\",start_time,end_time))\n",
    "    elif period == 360:\n",
    "        resp = requests.get(\"https://api.bitfinex.com/v2/candles/trade:{}:tBTCUSD/hist?start={}&end={}\".format(\"6h\",start_time,end_time))\n",
    "    elif period == 720:\n",
    "        resp = requests.get(\"https://api.bitfinex.com/v2/candles/trade:{}:tBTCUSD/hist?start={}&end={}\".format(\"12h\",start_time,end_time))\n",
    "    elif period == 1440:\n",
    "        resp = requests.get(\"https://api.bitfinex.com/v2/candles/trade:{}:tBTCUSD/hist?start={}&end={}\".format(\"1D\",start_time,end_time))\n",
    "\n",
    "    result = resp.json()\n",
    "#     pprint(result)\n",
    "    for data in result:\n",
    "        x.append(data[0])\n",
    "        y2.append(data[-1])\n",
    "    \n",
    "    x.reverse()\n",
    "    y2.reverse()\n",
    "#     print(x)\n",
    "    for i in range(1,len(x)):\n",
    "        if x[i]<x[i-1]:\n",
    "            print(\"What the fuck!\")\n",
    "    delta = x[1]-x[0]\n",
    "    \n",
    "    \n",
    "    \n",
    "    cur = coll.find({\"time\": {\"$lt\": result[0][0],\"$gt\":result[-1][0]}})\n",
    "    datas=list(cur)\n",
    "    \n",
    "    x_np=np.array([convert_to_datetime64(i) for i in x])\n",
    "    y2_np = np.array(y2)\n",
    "    y_np = np.zeros(x_np.shape[0])\n",
    "    position = 0\n",
    "    for data in datas:\n",
    "        if position<x_np.shape[0]-1 and convert_to_datetime64(data[\"time\"])>x_np[position+1]:\n",
    "            position+=1\n",
    "        if not filter_func or filter_func(data):\n",
    "            y_np[position]+=abs(data[\"amount\"])\n",
    "    \n",
    "    p_np = y_np/y2_np\n",
    "#     print(x_np)\n",
    "#     print(p_np)\n",
    "    plt.title(title)\n",
    "    plt.xlabel('Time')\n",
    "    plt.ylabel('Percentage')\n",
    "\n",
    "    plt.bar(x_np, p_np, color=green_color_schema,width=period/2000)\n",
    "#     plt.plot(x, y3, color=blue_color_schema)\n",
    "    plt.gcf().autofmt_xdate()\n",
    "    myFmt = mdates.DateFormatter('%m-%d %H:%M')\n",
    "    plt.gca().xaxis.set_major_formatter(myFmt)\n",
    "\n",
    "#     plt.bar(x,y2,color=red_color_schema)\n",
    "    plt.show()\n",
    "\n",
    "\n",
    "\n",
    "\n",
    "\n"
   ]
  },
  {
   "cell_type": "code",
   "execution_count": null,
   "metadata": {},
   "outputs": [],
   "source": [
    "draw_time_series_order_percentage(coll, int((time.time()-24*3600)*1000), \n",
    "                        int(time.time()*1000),60, title=\"BTC time based order percentage in 1 day\")\n",
    "draw_time_series_order_percentage(coll, int((time.time()-24*3600)*1000), \n",
    "                        int(time.time()*1000),60, lambda x: abs(x[\"amount\"]) > 300, title=\"ETH time based orders in 1 day with order>300\")\n",
    "draw_time_series_order_percentage(coll, int((time.time()-72*3600)*1000), \n",
    "                        int(time.time()*1000),180, title=\"BTC time based order percentage in 3 day\")\n",
    "draw_time_series_order_percentage(coll, int((time.time()-72*3600)*1000), \n",
    "                        int(time.time()*1000),180, lambda x: abs(x[\"amount\"]) > 300, title=\"ETH time based orders in 3 day with order>300\")\n",
    "draw_time_series_order_percentage(coll, int((time.time()-120*3600)*1000), \n",
    "                        int(time.time()*1000),360, title=\"BTC time based order percentage in 5 day\")\n",
    "draw_time_series_order_percentage(coll, int((time.time()-120*3600)*1000), \n",
    "                        int(time.time()*1000),360, lambda x: abs(x[\"amount\"]) > 300, title=\"ETH time based orders in 5 day with order>300\")\n"
   ]
  }
 ],
 "metadata": {
  "kernelspec": {
   "display_name": "Python 3",
   "language": "python",
   "name": "python3"
  },
  "language_info": {
   "codemirror_mode": {
    "name": "ipython",
    "version": 3
   },
   "file_extension": ".py",
   "mimetype": "text/x-python",
   "name": "python",
   "nbconvert_exporter": "python",
   "pygments_lexer": "ipython3",
   "version": "3.6.6"
  }
 },
 "nbformat": 4,
 "nbformat_minor": 1
}
